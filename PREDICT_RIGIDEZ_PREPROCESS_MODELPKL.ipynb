{
 "cells": [
  {
   "cell_type": "code",
   "execution_count": 1,
   "metadata": {},
   "outputs": [],
   "source": [
    "import os\n",
    "import pandas as pd\n",
    "import numpy as np\n",
    "import matplotlib.pyplot as plt\n",
    "import datetime\n",
    "import arrow\n",
    "import pytz\n",
    "from tzlocal import get_localzone\n",
    "import PIconnect as PI\n",
    "import pickle\n",
    "\n",
    "from sklearn.metrics import mean_squared_error\n",
    "from sklearn.linear_model import LinearRegression\n",
    "from sklearn.metrics import mean_squared_error, r2_score\n",
    "from sklearn.model_selection import train_test_split\n",
    "from sklearn.ensemble import RandomForestRegressor"
   ]
  },
  {
   "cell_type": "markdown",
   "metadata": {},
   "source": [
    "### Pré-Processamento "
   ]
  },
  {
   "cell_type": "code",
   "execution_count": 2,
   "metadata": {},
   "outputs": [],
   "source": [
    "#substituir bad data por NaN\n",
    "def fix_bad_data(df, bad_data=[\"Bad Data\",\"No Data\",\"Bad\",\"I/O Timeout\",\"Calc Failed\",\n",
    "                               \"Arc Off-line\",\"Comm Fail\",\"Configure\",\"Intf Shut\"]):\n",
    "    df = df.apply(lambda x: x.replace(bad_data, np.nan), axis=0)\n",
    "    return df"
   ]
  },
  {
   "cell_type": "code",
   "execution_count": 3,
   "metadata": {},
   "outputs": [],
   "source": [
    "#coluna \"dummies\" numéricas para as famílias de papel que são string\n",
    "def dummies_LINHA(df):\n",
    "    \n",
    "    list_fam = df['LINHA'].unique()\n",
    "    list_dum = [(i+1) for i in list(range(len(df['LINHA'].unique())))]\n",
    "    \n",
    "    replace_values = dict(zip(list_fam,list_dum))\n",
    "        \n",
    "    df['LINHA'] = df['LINHA'].replace(replace_values)\n",
    "    \n",
    "    return df"
   ]
  },
  {
   "cell_type": "code",
   "execution_count": 4,
   "metadata": {},
   "outputs": [],
   "source": [
    "#preparar dados do csv de treinamento\n",
    "def prepare_df(dataframe):\n",
    "    \n",
    "    features = dataframe #dataframe fornecido\n",
    "    \n",
    "    #familia do cartão\n",
    "    if 'LINHA' in list(features.columns.values):\n",
    "        pass\n",
    "    else:\n",
    "        features[\"LINHA\"] = features[\"B6FPGRADE\"].str[0:3]\n",
    "    \n",
    "    #substituir os valores Bad Data por NaN\n",
    "    features = fix_bad_data(features)\n",
    "    \n",
    "    features = dummies_LINHA(features)\n",
    "\n",
    "    #converter colunas (menos TIMESTAMP, LINHA e PROD) para valor numérico\n",
    "    for i in list(features.columns.values):\n",
    "        if i in [\"TIMESTAMP\",\"LINHA\",\"B6FPGRADE\",\"B6OPT_ROLO\"]:\n",
    "            pass\n",
    "        else:\n",
    "            if features[i].dtype == 'O':\n",
    "                features[i] = features[i].astype('float64')\n",
    "    \n",
    "    #adicionar tags - CALCULAR FLUXO DE CELULOSE COM TAGS DISPONÍVEIS\n",
    "    features[\"GSL1\"] = (features[\"B6MFVAT01WFPV\"]*features[\"B6AI0405PV\"])/features[\"B6P1XDHDRESPDAPV\"]\n",
    "    features[\"GSL4\"] = (features[\"B6MFVAT04WFPV\"]*features[\"B6AI0480PV\"])/features[\"B6P1XDHDRESPDAPV\"]\n",
    "    features[\"GSL2\"] = (features[\"B6MFVAT02WFPV\"]*features[\"B6AI0430PV\"])/features[\"B6P1XDHDRESPDAPV\"]\n",
    "    \n",
    "    features = features.drop(columns = [\"B6MFVAT01WFPV\",\"B6MFVAT04WFPV\",\"B6MFVAT02WFPV\",\"B6AI0405PV\",\n",
    "                                        \"B6AI0480PV\",\"B6AI0430PV\"])\n",
    "    \n",
    "    #filtro de quebras\n",
    "    tags_quebras = ['QUEBRAS_MB6_HST','B6P1XDHD.BRKAC']\n",
    "    for i in tags_quebras:\n",
    "        if i in list(features.columns.values):\n",
    "            features = features[features[i] == 0]\n",
    "            features = features.drop(columns = [i])\n",
    "            \n",
    "    #excluir linha que contém valores nulos\n",
    "    features = features.dropna(axis=0)\n",
    "\n",
    "    #excluir possiveis linhas duplicadas\n",
    "    features = features.drop_duplicates()\n",
    "                \n",
    "    return features"
   ]
  },
  {
   "cell_type": "markdown",
   "metadata": {},
   "source": [
    "### Modelo de Predição"
   ]
  },
  {
   "cell_type": "code",
   "execution_count": 5,
   "metadata": {},
   "outputs": [],
   "source": [
    "#csv para treinamento\n",
    "train_df = pd.read_excel('train_novo.xlsx',sep = ';',decimal = ',',encoding = 'UTF-8')"
   ]
  },
  {
   "cell_type": "code",
   "execution_count": 6,
   "metadata": {},
   "outputs": [],
   "source": [
    "df = prepare_df(train_df)"
   ]
  },
  {
   "cell_type": "code",
   "execution_count": 7,
   "metadata": {},
   "outputs": [],
   "source": [
    "#retornar as familias que estão no treinamento do modelo - não predizer familias desconhecidas\n",
    "def fam_pred(df):\n",
    "    \n",
    "    dict_fam = {'Fam_rigidez': list(df['LINHA'].unique())}\n",
    "    return dict_fam"
   ]
  },
  {
   "cell_type": "code",
   "execution_count": 8,
   "metadata": {},
   "outputs": [],
   "source": [
    "#tratar o dataframe pré-predição\n",
    "\n",
    "def final_prep(df):\n",
    "\n",
    "    #tratar dados do tipo NaN e Infinitos\n",
    "    df[df==np.inf]=np.nan\n",
    "    df = df.dropna(axis=0)\n",
    "\n",
    "    #eliminar outliers\n",
    "    df = df[df['B6OPT_119_AVG']<= 600] #maior LimSup de rigidez L\n",
    "    df = df[df['B6OPT_120_AVG']<= 300] #maior LimSup de rigidez T\n",
    "    \n",
    "    return df"
   ]
  },
  {
   "cell_type": "code",
   "execution_count": 9,
   "metadata": {},
   "outputs": [],
   "source": [
    "df = final_prep(df)"
   ]
  },
  {
   "cell_type": "code",
   "execution_count": 10,
   "metadata": {},
   "outputs": [],
   "source": [
    "#tags de rigidez do laboratório\n",
    "target = df[['B6OPT_119_AVG','B6OPT_120_AVG']]\n",
    "\n",
    "#tirar targets + timestamp e numero do rolo\n",
    "features = df.drop(columns = ['TIMESTAMP','B6OPT_ROLO','B6OPT_119_AVG','B6OPT_120_AVG','B6FPGRADE']) "
   ]
  },
  {
   "cell_type": "code",
   "execution_count": 11,
   "metadata": {},
   "outputs": [],
   "source": [
    "x_train, x_test, y_train, y_test = train_test_split(features,target,test_size = 0.3, random_state = 5)"
   ]
  },
  {
   "cell_type": "code",
   "execution_count": 12,
   "metadata": {},
   "outputs": [],
   "source": [
    "model = RandomForestRegressor()"
   ]
  },
  {
   "cell_type": "code",
   "execution_count": 13,
   "metadata": {},
   "outputs": [
    {
     "name": "stderr",
     "output_type": "stream",
     "text": [
      "c:\\users\\jtsantos\\my-venv\\lib\\site-packages\\sklearn\\ensemble\\forest.py:245: FutureWarning: The default value of n_estimators will change from 10 in version 0.20 to 100 in 0.22.\n",
      "  \"10 in version 0.20 to 100 in 0.22.\", FutureWarning)\n"
     ]
    },
    {
     "data": {
      "text/plain": [
       "RandomForestRegressor(bootstrap=True, criterion='mse', max_depth=None,\n",
       "                      max_features='auto', max_leaf_nodes=None,\n",
       "                      min_impurity_decrease=0.0, min_impurity_split=None,\n",
       "                      min_samples_leaf=1, min_samples_split=2,\n",
       "                      min_weight_fraction_leaf=0.0, n_estimators=10,\n",
       "                      n_jobs=None, oob_score=False, random_state=None,\n",
       "                      verbose=0, warm_start=False)"
      ]
     },
     "execution_count": 13,
     "metadata": {},
     "output_type": "execute_result"
    }
   ],
   "source": [
    "model.fit(x_train,y_train)"
   ]
  },
  {
   "cell_type": "code",
   "execution_count": 14,
   "metadata": {},
   "outputs": [],
   "source": [
    "predict_rigidez = model.predict(x_test)"
   ]
  },
  {
   "cell_type": "code",
   "execution_count": 15,
   "metadata": {},
   "outputs": [],
   "source": [
    "pred = pd.DataFrame(data = model.predict(x_test),columns = ['B6OPT_119_AVG_pred','B6OPT_120_AVG_pred'])"
   ]
  },
  {
   "cell_type": "code",
   "execution_count": 16,
   "metadata": {},
   "outputs": [
    {
     "data": {
      "text/plain": [
       "<matplotlib.collections.PathCollection at 0x21b75d66320>"
      ]
     },
     "execution_count": 16,
     "metadata": {},
     "output_type": "execute_result"
    },
    {
     "data": {
      "image/png": "[encoded data removed]",
      "text/plain": [
       "<Figure size 432x288 with 1 Axes>"
      ]
     },
     "metadata": {
      "needs_background": "light"
     },
     "output_type": "display_data"
    }
   ],
   "source": [
    "plt.scatter(pred,y_test)"
   ]
  },
  {
   "cell_type": "markdown",
   "metadata": {},
   "source": [
    "### Avaliação"
   ]
  },
  {
   "cell_type": "code",
   "execution_count": 17,
   "metadata": {},
   "outputs": [],
   "source": [
    "#RMSE DAS PREDIÇÕES\n",
    "#PI Notification quando o erro estiver muito alto?"
   ]
  },
  {
   "cell_type": "code",
   "execution_count": 18,
   "metadata": {},
   "outputs": [],
   "source": [
    "def score_RMSE (pred,y_test):\n",
    "    \n",
    "    RMSE_L = np.sqrt(mean_squared_error( y_test['B6OPT_119_AVG'],pred['B6OPT_119_AVG_pred'])) #LONGITUDINAL\n",
    "    RMSE_T = np.sqrt(mean_squared_error(y_test['B6OPT_120_AVG'],pred['B6OPT_120_AVG_pred'])) #TRANSVERSAL\n",
    "        \n",
    "    return RMSE_L, RMSE_T"
   ]
  },
  {
   "cell_type": "code",
   "execution_count": 19,
   "metadata": {},
   "outputs": [],
   "source": [
    "#REGRESSÃO LINEAR DOS DADOS\n",
    "#PI Notification quando o erro estiver baixo?"
   ]
  },
  {
   "cell_type": "code",
   "execution_count": 20,
   "metadata": {},
   "outputs": [],
   "source": [
    "def score_r2(pred,y_test):\n",
    "    \n",
    "    df_L = pd.DataFrame(data = {'L_true': list(y_test['B6OPT_119_AVG'].values),\n",
    "                                'L_pred': list(pred['B6OPT_119_AVG_pred'].values)})\n",
    "    df_T = pd.DataFrame(data = {'T_true': list(y_test['B6OPT_120_AVG'].values),\n",
    "                                'T_pred': list(pred['B6OPT_120_AVG_pred'].values)})\n",
    "    \n",
    "    r2_L = r2_score(df_L[['L_true']],df_L[['L_pred']])\n",
    "    r2_T = r2_score(df_T[['T_true']],df_T[['T_pred']])\n",
    "    \n",
    "    return r2_L, r2_T"
   ]
  },
  {
   "cell_type": "code",
   "execution_count": 21,
   "metadata": {},
   "outputs": [
    {
     "data": {
      "text/plain": [
       "[11.7985, 7.5255, 0.9841, 0.969]"
      ]
     },
     "execution_count": 21,
     "metadata": {},
     "output_type": "execute_result"
    }
   ],
   "source": [
    "RMSE_L, RMSE_T = score_RMSE (pred,y_test)\n",
    "r2_L, r2_T = score_r2(pred,y_test)\n",
    "\n",
    "l_total = [round(RMSE_L,4), round(RMSE_T,4),round(r2_L,4), round(r2_T,4)]\n",
    "l_total"
   ]
  },
  {
   "cell_type": "code",
   "execution_count": 22,
   "metadata": {},
   "outputs": [],
   "source": [
    "linha = x_test['LINHA'].to_list()\n",
    "\n",
    "l1 = pred['B6OPT_119_AVG_pred'].to_list()\n",
    "l2 = pred['B6OPT_120_AVG_pred'].to_list()\n",
    "\n",
    "l3 = y_test['B6OPT_119_AVG'].to_list()\n",
    "l4 = y_test['B6OPT_120_AVG'].to_list()"
   ]
  },
  {
   "cell_type": "code",
   "execution_count": 23,
   "metadata": {},
   "outputs": [],
   "source": [
    "df_pred = pd.DataFrame(data = {'LINHA': linha, 'B6OPT_119_AVG': l3, 'B6OPT_119_AVG_pred': l1, \n",
    "                               'B6OPT_120_AVG': l4, 'B6OPT_120_AVG_pred': l2})"
   ]
  },
  {
   "cell_type": "code",
   "execution_count": 24,
   "metadata": {},
   "outputs": [],
   "source": [
    "list_fam = ['SBA', 'DUO', 'BCO', 'TWP', 'TFP', 'S6N', 'TPR', 'CBO', 'TPW','BCC']\n",
    "list_dum = [1, 2, 3, 4, 5, 6, 7, 8, 9, 10]\n",
    "\n",
    "df_pred['LINHA'] = df_pred['LINHA'].replace(dict(zip(list_dum,list_fam)))"
   ]
  },
  {
   "cell_type": "code",
   "execution_count": 25,
   "metadata": {},
   "outputs": [],
   "source": [
    "list_df = []\n",
    "for i in list_fam:\n",
    "    df_aux = df_pred[df_pred['LINHA']==i]\n",
    "    list_df.append(df_aux)"
   ]
  },
  {
   "cell_type": "code",
   "execution_count": 26,
   "metadata": {},
   "outputs": [
    {
     "name": "stderr",
     "output_type": "stream",
     "text": [
      "c:\\users\\jtsantos\\my-venv\\lib\\site-packages\\sklearn\\metrics\\regression.py:543: UndefinedMetricWarning: R^2 score is not well-defined with less than two samples.\n",
      "  warnings.warn(msg, UndefinedMetricWarning)\n",
      "c:\\users\\jtsantos\\my-venv\\lib\\site-packages\\sklearn\\metrics\\regression.py:543: UndefinedMetricWarning: R^2 score is not well-defined with less than two samples.\n",
      "  warnings.warn(msg, UndefinedMetricWarning)\n"
     ]
    }
   ],
   "source": [
    "list_scr = []\n",
    "\n",
    "for i in list_df:\n",
    "    \n",
    "    pred = i.drop(columns = ['LINHA', 'B6OPT_119_AVG', 'B6OPT_120_AVG'])\n",
    "    y_test = i.drop(columns = ['LINHA', 'B6OPT_119_AVG_pred', 'B6OPT_120_AVG_pred'])\n",
    "    RMSE_L, RMSE_T = score_RMSE(pred,y_test)\n",
    "    r2_L, r2_T = score_r2(pred,y_test)\n",
    "    list_scr.append([round(RMSE_L,4), round(RMSE_T,4),round(r2_L,4), round(r2_T,4)])    "
   ]
  },
  {
   "cell_type": "code",
   "execution_count": 27,
   "metadata": {},
   "outputs": [
    {
     "name": "stdout",
     "output_type": "stream",
     "text": [
      "RMSE_L, RMSE_T, r2_L, r2_T\n",
      "0 SBA 386 [11.5097, 8.1561, 0.9699, 0.9349]\n",
      "1 DUO 74 [8.0505, 5.5276, 0.9709, 0.942]\n",
      "2 BCO 44 [7.2857, 23.3631, 0.9468, 0.4613]\n",
      "3 TWP 1031 [10.5738, 5.876, 0.9884, 0.9831]\n",
      "4 TFP 97 [17.8494, 10.5141, 0.9739, 0.9509]\n",
      "5 S6N 846 [12.9335, 7.0811, 0.974, 0.9591]\n",
      "6 TPR 3 [12.0716, 8.9016, -0.0896, -1.8925]\n",
      "7 CBO 1 [3.273, 0.145, nan, nan]\n",
      "8 TPW 6 [5.7289, 2.3952, 0.5131, -3.3216]\n",
      "9 BCC 2 [2.9795, 4.8803, -0.1782, -5.7387]\n"
     ]
    }
   ],
   "source": [
    "print('RMSE_L, RMSE_T, r2_L, r2_T')\n",
    "\n",
    "for i in range(len(list_df)):\n",
    "    print(i, list_fam[i],len(list_df[i]), list_scr[i])"
   ]
  },
  {
   "cell_type": "code",
   "execution_count": 28,
   "metadata": {},
   "outputs": [
    {
     "data": {
      "text/plain": [
       "[8.3937, 5.4989, 0.9752, 0.8791]"
      ]
     },
     "execution_count": 28,
     "metadata": {},
     "output_type": "execute_result"
    }
   ],
   "source": [
    "#TPR e TPW em um df só\n",
    "df_tp = list_df[6].append(list_df[8])\n",
    "\n",
    "pred = df_tp.drop(columns = ['LINHA', 'B6OPT_119_AVG', 'B6OPT_120_AVG'])\n",
    "y_test = df_tp.drop(columns = ['LINHA', 'B6OPT_119_AVG_pred', 'B6OPT_120_AVG_pred'])\n",
    "RMSE_L, RMSE_T = score_RMSE(pred,y_test)\n",
    "r2_L, r2_T = score_r2(pred,y_test)\n",
    "\n",
    "l_tp = [round(RMSE_L,4), round(RMSE_T,4),round(r2_L,4), round(r2_T,4)]\n",
    "l_tp"
   ]
  },
  {
   "cell_type": "code",
   "execution_count": 29,
   "metadata": {},
   "outputs": [
    {
     "data": {
      "text/plain": [
       "[7.0922, 22.6276, 0.9494, 0.4712]"
      ]
     },
     "execution_count": 29,
     "metadata": {},
     "output_type": "execute_result"
    }
   ],
   "source": [
    "#BCO, CBO e BCC em um df só\n",
    "df_copo = list_df[2].append(list_df[7])\n",
    "df_copo = df_copo.append(list_df[9])\n",
    "\n",
    "pred = df_copo.drop(columns = ['LINHA', 'B6OPT_119_AVG', 'B6OPT_120_AVG'])\n",
    "y_test = df_copo.drop(columns = ['LINHA', 'B6OPT_119_AVG_pred', 'B6OPT_120_AVG_pred'])\n",
    "RMSE_L, RMSE_T = score_RMSE(pred,y_test)\n",
    "r2_L, r2_T = score_r2(pred,y_test)\n",
    "\n",
    "l_copo = [round(RMSE_L,4), round(RMSE_T,4),round(r2_L,4), round(r2_T,4)]\n",
    "l_copo"
   ]
  },
  {
   "cell_type": "markdown",
   "metadata": {},
   "source": [
    "### Salvar o modelo "
   ]
  },
  {
   "cell_type": "code",
   "execution_count": 30,
   "metadata": {},
   "outputs": [],
   "source": [
    "def save_model(modelo, fname):\n",
    "    \"\"\"\n",
    "    Pickles model under \"self.reg\".\n",
    "    :param fname: path/to/file where to save model\n",
    "    \"\"\"\n",
    "    with open(fname, 'wb') as ofile:\n",
    "        pickle.dump(modelo, ofile, pickle.HIGHEST_PROTOCOL)\n",
    "\n",
    "def load_model(modelo, fname):\n",
    "    \"\"\"\n",
    "    Loads model under \"self.reg\".\n",
    "    :param fname: path/to/file where model is pickled.\n",
    "    \"\"\"\n",
    "    with open(fname, 'rb') as ifile:\n",
    "        reg = pickle.load(ifile)\n",
    "        \n",
    "    return reg"
   ]
  },
  {
   "cell_type": "code",
   "execution_count": 31,
   "metadata": {},
   "outputs": [],
   "source": [
    "save_model(model,'predict_rigidez')"
   ]
  },
  {
   "cell_type": "markdown",
   "metadata": {},
   "source": [
    "### Predição online"
   ]
  },
  {
   "cell_type": "code",
   "execution_count": 32,
   "metadata": {},
   "outputs": [],
   "source": [
    "#trocar valores das tags de gramatura, espessura e umidade do lab. utilizados no modelo para TAGS DO SCANNER"
   ]
  },
  {
   "cell_type": "markdown",
   "metadata": {},
   "source": [
    "### Snapshot: quebra e familia"
   ]
  },
  {
   "cell_type": "code",
   "execution_count": 33,
   "metadata": {},
   "outputs": [],
   "source": [
    "#snapshot_quebras\n",
    "#se estiver em quebra, não realiza predição! se quebras_ultimo_valor != 0 \n",
    "#atribuir ultimo valor calculado à tag - CONGELAMENTO - valor da tag em PIWebAPI"
   ]
  },
  {
   "cell_type": "code",
   "execution_count": 34,
   "metadata": {},
   "outputs": [],
   "source": [
    "#snapshot_familia\n",
    "#se estiver fabricando uma familia desconhecida, não realiza predição! se LINHA not in familias_do_dicionario\n",
    "#atribuir ultimo valor calculado à tag - CONGELAMENTO - valor da tag em PIWebAPI"
   ]
  },
  {
   "cell_type": "markdown",
   "metadata": {},
   "source": [
    "### Bias de correção"
   ]
  },
  {
   "cell_type": "code",
   "execution_count": 35,
   "metadata": {},
   "outputs": [],
   "source": [
    "#bias - regressao linear do valor_real_rigidez x predicao\n",
    "#A REGRESSÃO LINEAR CONSEGUE AMENIZAR OUTLIERS DA PREDIÇÃO"
   ]
  },
  {
   "cell_type": "code",
   "execution_count": 36,
   "metadata": {},
   "outputs": [],
   "source": [
    "def bias_reglin_L(pred,y_test):\n",
    "\n",
    "    df_L = pd.DataFrame(data = {'L_true': list(y_test['B6OPT_119_AVG'].values),\n",
    "                                'L_pred': list(pred['B6OPT_119_AVG_pred'].values)})\n",
    "    \n",
    "    model_L = LinearRegression().fit(df_L[['L_true']], df_L[['L_pred']])\n",
    "    \n",
    "    L_reglin = model_L.coef_[0][0]*df_L[['L_true']] + model_L.intercept_[0]\n",
    "    \n",
    "    r2_L = r2_score(df_L[['L_true']],L_reglin)\n",
    "\n",
    "    return r2_L, L_reglin"
   ]
  },
  {
   "cell_type": "code",
   "execution_count": 37,
   "metadata": {},
   "outputs": [
    {
     "data": {
      "text/plain": [
       "0.9949225734687214"
      ]
     },
     "execution_count": 37,
     "metadata": {},
     "output_type": "execute_result"
    }
   ],
   "source": [
    "r2_L,L_reglin = bias_reglin_L(pred,y_test)\n",
    "r2_L"
   ]
  },
  {
   "cell_type": "code",
   "execution_count": 38,
   "metadata": {},
   "outputs": [],
   "source": [
    "def bias_reglin_T(pred,y_test):\n",
    "\n",
    "    df_T = pd.DataFrame(data = {'T_true': list(y_test['B6OPT_120_AVG'].values),\n",
    "                                'T_pred': list(pred['B6OPT_120_AVG_pred'].values)})\n",
    "    \n",
    "    model_T = LinearRegression().fit(df_T[['T_true']], df_T[['T_pred']])\n",
    "    \n",
    "    T_reglin = model_T.coef_[0][0]*df_T[['T_true']] + model_T.intercept_[0]\n",
    "    \n",
    "    r2_T = r2_score(df_T[['T_true']],T_reglin)\n",
    "\n",
    "    return r2_T, T_reglin"
   ]
  },
  {
   "cell_type": "code",
   "execution_count": 39,
   "metadata": {},
   "outputs": [
    {
     "data": {
      "text/plain": [
       "0.5948644480771214"
      ]
     },
     "execution_count": 39,
     "metadata": {},
     "output_type": "execute_result"
    }
   ],
   "source": [
    "r2_T, T_reglin = bias_reglin_T(pred,y_test)\n",
    "r2_T"
   ]
  }
 ],
 "metadata": {
  "kernelspec": {
   "display_name": "Python 3",
   "language": "python",
   "name": "python3"
  },
  "language_info": {
   "codemirror_mode": {
    "name": "ipython",
    "version": 3
   },
   "file_extension": ".py",
   "mimetype": "text/x-python",
   "name": "python",
   "nbconvert_exporter": "python",
   "pygments_lexer": "ipython3",
   "version": "3.7.3"
  }
 },
 "nbformat": 4,
 "nbformat_minor": 2
}
